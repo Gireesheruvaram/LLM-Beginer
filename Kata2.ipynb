{
  "nbformat": 4,
  "nbformat_minor": 0,
  "metadata": {
    "colab": {
      "provenance": [],
      "authorship_tag": "ABX9TyMzpHw2mLkc/FciftyAkeFf",
      "include_colab_link": true
    },
    "kernelspec": {
      "name": "python3",
      "display_name": "Python 3"
    },
    "language_info": {
      "name": "python"
    }
  },
  "cells": [
    {
      "cell_type": "markdown",
      "metadata": {
        "id": "view-in-github",
        "colab_type": "text"
      },
      "source": [
        "<a href=\"https://colab.research.google.com/github/Gireesheruvaram/LLM-Beginer/blob/vector-database-kata2-branch/Kata2.ipynb\" target=\"_parent\"><img src=\"https://colab.research.google.com/assets/colab-badge.svg\" alt=\"Open In Colab\"/></a>"
      ]
    },
    {
      "cell_type": "code",
      "source": [
        "import chromadb\n",
        "import openai\n",
        "\n"
      ],
      "metadata": {
        "id": "DFhY4mmhs_wL"
      },
      "execution_count": null,
      "outputs": []
    },
    {
      "cell_type": "code",
      "source": [
        "# Initialize ChromaDB client\n",
        "client = chromadb.Client()\n",
        "\n",
        "# Create a collection\n",
        "collection = client.get_or_create_collection(\n",
        "    name=\"hybrid_search\",\n",
        "    metadata={\"description\": \"Hybrid search with metadata filtering\"}\n",
        ")\n"
      ],
      "metadata": {
        "id": "UMzmHxz6tCq6"
      },
      "execution_count": null,
      "outputs": []
    },
    {
      "cell_type": "code",
      "source": [
        "#  Function to Generate Embeddings\n",
        "\n",
        "\n",
        "def create_embedding(text):\n",
        "    response = openai.Embedding.create(\n",
        "        model=\"text-embedding-ada-002\",\n",
        "        input=text\n",
        "    )\n",
        "    return response['data'][0]['embedding']\n"
      ],
      "metadata": {
        "id": "Bj7ctAeItK8U"
      },
      "execution_count": null,
      "outputs": []
    },
    {
      "cell_type": "code",
      "source": [
        "# Example documents with metadata\n",
        "documents = [\n",
        "    {\n",
        "        \"id\": \"doc1\",\n",
        "        \"text\": \"This is a document about machine learning.\",\n",
        "        \"metadata\": {\"author\": \"Alice\", \"date\": \"2023-01-01\", \"title\": \"Machine Learning Basics\"}\n",
        "    },\n",
        "    {\n",
        "        \"id\": \"doc2\",\n",
        "        \"text\": \"An in-depth guide to neural networks.\",\n",
        "        \"metadata\": {\"author\": \"Bob\", \"date\": \"2023-02-15\", \"title\": \"Neural Networks\"}\n",
        "    }\n",
        "]\n",
        "\n",
        "# Add documents to the collection\n",
        "for doc in documents:\n",
        "    embedding = create_embedding(doc[\"text\"])\n",
        "    collection.add(\n",
        "        ids=[doc[\"id\"]],\n",
        "        documents=[doc[\"text\"]],\n",
        "        metadatas=[doc[\"metadata\"]],\n",
        "        embeddings=[embedding]\n",
        "    )\n"
      ],
      "metadata": {
        "id": "a1OgYI34tNC1"
      },
      "execution_count": null,
      "outputs": []
    },
    {
      "cell_type": "code",
      "source": [
        "def hybrid_search(query, metadata_filter=None, top_k=5):\n",
        "    # Generate embedding for the query\n",
        "    query_embedding = create_embedding(query)\n",
        "\n",
        "    # Perform hybrid search with metadata filtering\n",
        "    results = collection.query(\n",
        "        query_embeddings=[query_embedding],\n",
        "        n_results=top_k,\n",
        "        where=metadata_filter  # Metadata filter\n",
        "    )\n",
        "\n",
        "    return results\n"
      ],
      "metadata": {
        "id": "OAgNjqG9uzra"
      },
      "execution_count": null,
      "outputs": []
    },
    {
      "cell_type": "code",
      "source": [
        "# Define metadata filter (e.g., filter by author)\n",
        "metadata_filter = {\"author\": \"Alice\"}\n",
        "\n",
        "# Define query\n",
        "query = \"What is machine learning?\"\n",
        "\n",
        "# Perform search\n",
        "results = hybrid_search(query, metadata_filter)\n",
        "\n",
        "# Display results\n",
        "for i, (doc, metadata) in enumerate(zip(results['documents'], results['metadatas'])):\n",
        "    print(f\"Result {i + 1}:\")\n",
        "    print(f\"Document: {doc}\")\n",
        "    print(f\"Metadata: {metadata}\")\n",
        "    print(\"-\" * 50)\n"
      ],
      "metadata": {
        "colab": {
          "base_uri": "https://localhost:8080/"
        },
        "id": "bVGd9NXZu70S",
        "outputId": "da90c6e8-bab4-4b60-df1d-85ed7f510f28"
      },
      "execution_count": null,
      "outputs": [
        {
          "output_type": "stream",
          "name": "stderr",
          "text": [
            "WARNING:chromadb.segment.impl.vector.local_hnsw:Number of requested results 5 is greater than number of elements in index 2, updating n_results = 2\n"
          ]
        },
        {
          "output_type": "stream",
          "name": "stdout",
          "text": [
            "Result 1:\n",
            "Document: ['This is a document about machine learning.']\n",
            "Metadata: [{'author': 'Alice', 'date': '2023-01-01', 'title': 'Machine Learning Basics'}]\n",
            "--------------------------------------------------\n"
          ]
        }
      ]
    }
  ]
}