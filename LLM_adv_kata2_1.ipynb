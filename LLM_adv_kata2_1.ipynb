{
  "nbformat": 4,
  "nbformat_minor": 0,
  "metadata": {
    "colab": {
      "provenance": [],
      "authorship_tag": "ABX9TyMSdewIzx06TWxPr9ZfG5FX",
      "include_colab_link": true
    },
    "kernelspec": {
      "name": "python3",
      "display_name": "Python 3"
    },
    "language_info": {
      "name": "python"
    }
  },
  "cells": [
    {
      "cell_type": "markdown",
      "metadata": {
        "id": "view-in-github",
        "colab_type": "text"
      },
      "source": [
        "<a href=\"https://colab.research.google.com/github/Gireesheruvaram/LLM-Beginer/blob/LLMadv-kata2problem1/LLM_adv_kata2_1.ipynb\" target=\"_parent\"><img src=\"https://colab.research.google.com/assets/colab-badge.svg\" alt=\"Open In Colab\"/></a>"
      ]
    },
    {
      "cell_type": "code",
      "execution_count": null,
      "metadata": {
        "id": "li_7iVYHyJJG"
      },
      "outputs": [],
      "source": [
        "import pandas as pd\n",
        "import numpy as np\n",
        "import string\n",
        "\n"
      ]
    },
    {
      "cell_type": "code",
      "source": [
        "df =pd.read_csv('/content/sample_data/Lyrics.csv')"
      ],
      "metadata": {
        "id": "tFL0mnuOzEZn"
      },
      "execution_count": null,
      "outputs": []
    },
    {
      "cell_type": "code",
      "source": [
        "# Step 1: Preview the dataset\n",
        "print(\"Dataset Preview:\")\n",
        "print(df.head())"
      ],
      "metadata": {
        "colab": {
          "base_uri": "https://localhost:8080/"
        },
        "id": "NHf7azA-znbe",
        "outputId": "019e93eb-e752-43f1-cf38-c20ffae4d6a4"
      },
      "execution_count": null,
      "outputs": [
        {
          "output_type": "stream",
          "name": "stdout",
          "text": [
            "Dataset Preview:\n",
            "                                          Lyrics\n",
            "0     I wanna dance with somebody (who loves me)\n",
            "1       You're the one that I want, oohoo, honey\n",
            "2                           Baby, baby, baby, oh\n",
            "3  A sky full of stars and a heart full of scars\n",
            "4             Can't stop the feeling! So excited\n"
          ]
        }
      ]
    },
    {
      "cell_type": "code",
      "source": [
        "# Step 2: Preprocess the lyrics\n",
        "def preprocess_lyrics(lyrics):\n",
        "    # Convert to lowercase\n",
        "    lyrics = lyrics.lower()\n",
        "    # Remove punctuation\n",
        "    lyrics = lyrics.translate(str.maketrans('', '', string.punctuation))\n",
        "    return lyrics"
      ],
      "metadata": {
        "id": "SPTddeuPzy1Y"
      },
      "execution_count": null,
      "outputs": []
    },
    {
      "cell_type": "code",
      "source": [
        "\n",
        "if 'Lyrics' in df.columns:\n",
        "    # Apply preprocessing to the 'Lyrics' column\n",
        "    df['Lyrics'] = df['Lyrics'].apply(preprocess_lyrics)\n",
        "else:\n",
        "    print(\"The dataset does not contain a 'Lyrics' column. Please check the column names.\")\n",
        "    print(\"Available columns:\", df.columns)"
      ],
      "metadata": {
        "id": "c9_WsQ2Z0qSC"
      },
      "execution_count": null,
      "outputs": []
    },
    {
      "cell_type": "code",
      "source": [
        "\n",
        "# Step 3: Sample 10 random lyrics\n",
        "try:\n",
        "    sampled_lyrics = df['Lyrics'].sample(n=10, random_state=42)  # Ensure reproducibility\n",
        "    print(\"\\nRandom Sample of 10 Song Lyrics:\")\n",
        "    for i, lyric in enumerate(sampled_lyrics, 1):\n",
        "        print(f\"{i}. {lyric}\")\n",
        "except ValueError as e:\n",
        "    print(\"Error sampling lyrics:\", e)\n",
        "    print(\"Check if the 'Lyrics' column contains enough data.\")"
      ],
      "metadata": {
        "colab": {
          "base_uri": "https://localhost:8080/"
        },
        "id": "4sZ1AbeB0wcI",
        "outputId": "4cbf598f-083f-4d8e-b6f1-3f3cfe7f28af"
      },
      "execution_count": null,
      "outputs": [
        {
          "output_type": "stream",
          "name": "stdout",
          "text": [
            "\n",
            "Random Sample of 10 Song Lyrics:\n",
            "1. i believe i can fly\n",
            "2. its gettin hot in here so take off all your clothes\n",
            "3. a little bit of monica in my life\n",
            "4. a thousand miles from nowhere\n",
            "5. bohemian rhapsody is the best song ever\n",
            "6. livin on a prayer\n",
            "7. my heart will go on\n",
            "8. i wanna dance with somebody who loves me\n",
            "9. cant buy me love\n",
            "10. mmm mmm mmm mmm\n"
          ]
        }
      ]
    }
  ]
}