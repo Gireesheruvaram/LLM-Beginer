{
  "nbformat": 4,
  "nbformat_minor": 0,
  "metadata": {
    "colab": {
      "provenance": [],
      "authorship_tag": "ABX9TyPNiYoIe5lBgHX+PoMoWz94",
      "include_colab_link": true
    },
    "kernelspec": {
      "name": "python3",
      "display_name": "Python 3"
    },
    "language_info": {
      "name": "python"
    }
  },
  "cells": [
    {
      "cell_type": "markdown",
      "metadata": {
        "id": "view-in-github",
        "colab_type": "text"
      },
      "source": [
        "<a href=\"https://colab.research.google.com/github/Gireesheruvaram/LLM-Beginer/blob/LLMadv-kata1/Llmadvkata1.ipynb\" target=\"_parent\"><img src=\"https://colab.research.google.com/assets/colab-badge.svg\" alt=\"Open In Colab\"/></a>"
      ]
    },
    {
      "cell_type": "code",
      "source": [
        "import pandas as pd\n",
        "import numpy as np"
      ],
      "metadata": {
        "id": "vv0kc8qiqRc1"
      },
      "execution_count": null,
      "outputs": []
    },
    {
      "cell_type": "code",
      "source": [
        "from google.colab import drive\n",
        "import ast\n",
        "drive.mount('/content/drive')"
      ],
      "metadata": {
        "colab": {
          "base_uri": "https://localhost:8080/"
        },
        "id": "wCnZR38yqUhK",
        "outputId": "9d3cb69c-e716-46ad-911a-9fa3a53b78bf"
      },
      "execution_count": null,
      "outputs": [
        {
          "output_type": "stream",
          "name": "stdout",
          "text": [
            "Mounted at /content/drive\n"
          ]
        }
      ]
    },
    {
      "cell_type": "code",
      "source": [
        "\n",
        "\n",
        "\n",
        "file_path = \"/content/drive/MyDrive/Untitled Folder/movie_ratings.xlsx\"\n",
        "\n",
        "\n",
        "try:\n",
        "    df = pd.read_excel(file_path)\n",
        "    print(\"Dataset loaded successfully!\")\n",
        "except FileNotFoundError:\n",
        "    print(f\"Error: The file at {file_path} was not found.\")\n",
        "    exit()\n",
        "except Exception as e:\n",
        "    print(f\"Error loading the dataset: {e}\")\n",
        "    exit()\n",
        "\n",
        "# Display   rows\n",
        "print(df.head())\n"
      ],
      "metadata": {
        "colab": {
          "base_uri": "https://localhost:8080/"
        },
        "id": "Q5kruKz0q9B3",
        "outputId": "0463f059-efcc-4794-db14-c7fc42e6af98"
      },
      "execution_count": null,
      "outputs": [
        {
          "output_type": "stream",
          "name": "stdout",
          "text": [
            "Dataset loaded successfully!\n",
            "  movieId userId                                              title  \\\n",
            "0      m1     u1                                      The Godfather   \n",
            "1      m2     u1                           The Shawshank Redemption   \n",
            "2      m3     u1                                    The Dark Knight   \n",
            "3      m4     u2  The Lord of the Rings: The Fellowship of the Ring   \n",
            "4      m5     u2                                         The Matrix   \n",
            "\n",
            "                     genres  rating  \n",
            "0        ['Crime', 'Drama']       5  \n",
            "1        ['Drama', 'Crime']       4  \n",
            "2       ['Action', 'Crime']       3  \n",
            "3  ['Adventure', 'Fantasy']       4  \n",
            "4      ['Action', 'Sci-Fi']       5  \n"
          ]
        }
      ]
    },
    {
      "cell_type": "code",
      "source": [
        "\n",
        "try:\n",
        "    # Parse genres from stringified lists\n",
        "    df[\"genres\"] = df[\"genres\"].apply(lambda x: eval(x) if isinstance(x, str) else x)\n",
        "except Exception as e:\n",
        "    print(f\"Error parsing genres: {e}\")\n",
        "    exit()\n",
        "\n",
        "\n",
        "# Identify unique users and genres\n",
        "unique_users = df[\"userId\"].unique()\n",
        "print(f\"\\nUnique User IDs in DataFrame: {unique_users}\")\n",
        "\n",
        "# Define unique genres\n",
        "unique_genres = set(genre for genres in df[\"genres\"] for genre in genres)\n",
        "print(f\"\\nUnique Genres in DataFrame: {unique_genres}\")"
      ],
      "metadata": {
        "colab": {
          "base_uri": "https://localhost:8080/"
        },
        "id": "xjWHMBQ1Z9af",
        "outputId": "f1fabde6-1bf5-46ef-a73a-12063cd5f89f"
      },
      "execution_count": null,
      "outputs": [
        {
          "output_type": "stream",
          "name": "stdout",
          "text": [
            "\n",
            "Unique User IDs in DataFrame: ['u1' 'u2' 'u3' 'u4' 'u5' 'u6' 'u7' 'u8' 'u9' 'u10' 'u11' 'u12' 'u13'\n",
            " 'u14' 'u15']\n",
            "\n",
            "Unique Genres in DataFrame: {'Fantasy', 'Adventure', 'Crime', 'Sci-Fi', 'History', 'Thriller', 'Romance', 'Action', 'Comedy', 'War', 'Drama'}\n"
          ]
        }
      ]
    },
    {
      "cell_type": "code",
      "source": [
        "# Initialize user preference vectors and count vectors\n",
        "user_preferences = {user: np.zeros(len(unique_genres)) for user in unique_users}\n",
        "user_genre_counts = {user: np.zeros(len(unique_genres)) for user in unique_users}\n",
        "genre_index = {genre: i for i, genre in enumerate(unique_genres)}\n",
        "\n",
        "# Update user preference vectors based on ratings\n",
        "for _, row in df.iterrows():\n",
        "    try:\n",
        "        user = row[\"userId\"]\n",
        "        rating = row[\"rating\"]\n",
        "        genres = row[\"genres\"]\n",
        "        if user not in user_preferences:\n",
        "            user_preferences[user] = np.zeros(len(unique_genres))\n",
        "            user_genre_counts[user] = np.zeros(len(unique_genres))\n",
        "        for genre in genres:\n",
        "            if genre in genre_index:\n",
        "                index = genre_index[genre]\n",
        "                user_preferences[user][index] += rating\n",
        "                user_genre_counts[user][index] += 1\n",
        "    except Exception as e:\n",
        "        print(f\"Error processing row {row}: {e}\")\n",
        "        continue\n",
        "\n",
        "# Calculate average ratings for each genre\n",
        "for user in user_preferences:\n",
        "    with np.errstate(divide='ignore', invalid='ignore'):  # Handle division by zero\n",
        "        user_preferences[user] = np.divide(\n",
        "            user_preferences[user],\n",
        "            user_genre_counts[user],\n",
        "            out=np.zeros_like(user_preferences[user]),\n",
        "            where=user_genre_counts[user] != 0\n",
        "        )\n",
        "\n",
        "# Print user preference vectors (average ratings)\n",
        "print(\"\\nUser Preference Vectors (Average Ratings):\")\n",
        "for user, vector in user_preferences.items():\n",
        "    print(f\"User {user}: {vector}\")"
      ],
      "metadata": {
        "colab": {
          "base_uri": "https://localhost:8080/"
        },
        "id": "sJP0KepFbZVF",
        "outputId": "9dc0c9be-a9f6-4628-b8de-567597f9f0f0"
      },
      "execution_count": null,
      "outputs": [
        {
          "output_type": "stream",
          "name": "stdout",
          "text": [
            "\n",
            "User Preference Vectors (Average Ratings):\n",
            "User u1: [0.  0.  4.  0.  0.  0.  0.  3.  0.  0.  4.5]\n",
            "User u2: [4. 4. 0. 5. 0. 0. 0. 5. 0. 0. 0.]\n",
            "User u3: [0. 5. 4. 5. 0. 0. 0. 5. 4. 0. 0.]\n",
            "User u4: [5.  0.  5.  0.  0.  0.  4.  0.  0.  0.  4.5]\n",
            "User u5: [0. 0. 4. 0. 0. 4. 0. 0. 0. 0. 5.]\n",
            "User u6: [0.  0.  0.  0.  5.  0.  0.  0.  0.  4.  4.5]\n",
            "User u7: [0.  0.  4.5 0.  0.  0.  0.  0.  0.  0.  4.5]\n",
            "User u8: [4. 4. 5. 0. 0. 0. 0. 5. 0. 0. 0.]\n",
            "User u9: [0. 4. 0. 5. 0. 0. 0. 5. 0. 4. 0.]\n",
            "User u10: [0.  0.  4.5 0.  0.  0.  0.  0.  5.  0.  4. ]\n",
            "User u11: [0.  0.  5.  0.  0.  5.  4.  0.  0.  0.  4.5]\n",
            "User u12: [5.  0.  5.  0.  0.  4.  0.  0.  0.  0.  4.5]\n",
            "User u13: [0.  0.  0.  0.  5.  0.  0.  0.  0.  4.  4.5]\n",
            "User u14: [0.  0.  4.5 0.  0.  0.  0.  0.  0.  0.  4.5]\n",
            "User u15: [0. 0. 5. 0. 0. 0. 0. 5. 0. 0. 0.]\n"
          ]
        }
      ]
    },
    {
      "cell_type": "code",
      "source": [
        "\n",
        "# Recommendation Function\n",
        "def recommend_movies(user_id, user_preferences, external_movie_list, genre_index, top_n=3):\n",
        "    try:\n",
        "        if user_id not in user_preferences:\n",
        "            raise ValueError(f\"User {user_id} not found in user preferences.\")\n",
        "\n",
        "        user_vector = user_preferences[user_id]\n",
        "        recommendations = []\n",
        "\n",
        "        for movie in external_movie_list:\n",
        "            try:\n",
        "                # Validate the movie structure\n",
        "                if \"Title\" not in movie or \"Genre Vector\" not in movie:\n",
        "                    raise KeyError(\"Missing 'Title' or 'Genre Vector' in movie data.\")\n",
        "\n",
        "                genre_vector = np.zeros(len(unique_genres))\n",
        "\n",
        "                # For each genre in the movie, mark the corresponding genre position in genre_vector\n",
        "                for genre in movie[\"Genre Vector\"]:\n",
        "                    if genre in genre_index:\n",
        "                        genre_vector[genre_index[genre]] = 1\n",
        "\n",
        "                # Calculate the similarity score by taking the dot product between user preferences and genre vector\n",
        "                similarity_score = np.dot(user_vector, genre_vector)\n",
        "                recommendations.append((movie[\"Title\"], similarity_score))\n",
        "            except KeyError as e:\n",
        "                print(f\"Error in movie data: {e}\")\n",
        "                continue\n",
        "            except Exception as e:\n",
        "                print(f\"Unexpected error with movie {movie['Title']}: {e}\")\n",
        "                continue\n",
        "\n",
        "        # Sort recommendations by similarity score in descending order\n",
        "        recommendations.sort(key=lambda x: x[1], reverse=True)\n",
        "        return [title for title, _ in recommendations[:top_n]]\n",
        "\n",
        "    except ValueError as e:\n",
        "        print(f\"Error: {e}\")\n",
        "        return []"
      ],
      "metadata": {
        "id": "9-KtbM5Nb6Et"
      },
      "execution_count": null,
      "outputs": []
    },
    {
      "cell_type": "code",
      "source": [
        "external_movie_list = [\n",
        "    {\"Title\": \"The Godfather\", \"Genre Vector\": [\"Crime\", \"Drama\"]},\n",
        "    {\"Title\": \"The Dark Knight\", \"Genre Vector\": [\"Action\", \"Crime\"]},\n",
        "    {\"Title\": \"Inception\", \"Genre Vector\": [\"Action\", \"Sci-Fi\"]},\n",
        "    {\"Title\": \"Forrest Gump\", \"Genre Vector\": [\"Drama\", \"Romance\"]},\n",
        "    {\"Title\": \"The Lord of the Rings: The Fellowship of the Ring\", \"Genre Vector\": [\"Adventure\", \"Fantasy\"]},\n",
        "]"
      ],
      "metadata": {
        "id": "_cCk4CAMcQsE"
      },
      "execution_count": null,
      "outputs": []
    },
    {
      "cell_type": "code",
      "source": [
        " #Print all available user IDs and select one\n",
        "print(f\"\\nAvailable User IDs: {unique_users}\")\n",
        "\n",
        "# Choose a user ID for recommendations with error handling\n",
        "try:\n",
        "    user_id_to_recommend = input(\"Enter the User ID for which you want recommendations: \").strip()\n",
        "\n",
        "    if user_id_to_recommend not in user_preferences:\n",
        "        raise ValueError(f\"User ID '{user_id_to_recommend}' not found in the dataset.\")\n",
        "\n",
        "    recommended_movies = recommend_movies(user_id_to_recommend, user_preferences, external_movie_list, genre_index)\n",
        "\n",
        "    if recommended_movies:\n",
        "        print(f\"\\nRecommended Movies for User {user_id_to_recommend}:\")\n",
        "        for title in recommended_movies:\n",
        "            print(title)\n",
        "    else:\n",
        "        print(f\"No recommendations found for User {user_id_to_recommend}.\")\n",
        "\n",
        "except ValueError as e:\n",
        "    print(f\"Error: {e}\")\n",
        "except Exception as e:\n",
        "    print(f\"Unexpected error: {e}\")\n"
      ],
      "metadata": {
        "colab": {
          "base_uri": "https://localhost:8080/"
        },
        "id": "fF4JgDsXcYYd",
        "outputId": "db199250-fa67-4f3b-9f0c-61d5d545f7c8"
      },
      "execution_count": null,
      "outputs": [
        {
          "output_type": "stream",
          "name": "stdout",
          "text": [
            "\n",
            "Available User IDs: ['u1' 'u2' 'u3' 'u4' 'u5' 'u6' 'u7' 'u8' 'u9' 'u10' 'u11' 'u12' 'u13'\n",
            " 'u14' 'u15']\n",
            "Enter the User ID for which you want recommendations: u1\n",
            "\n",
            "Recommended Movies for User u1:\n",
            "The Godfather\n",
            "The Dark Knight\n",
            "Forrest Gump\n"
          ]
        }
      ]
    }
  ]
}