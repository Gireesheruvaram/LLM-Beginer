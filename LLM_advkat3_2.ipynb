{
  "nbformat": 4,
  "nbformat_minor": 0,
  "metadata": {
    "colab": {
      "provenance": [],
      "authorship_tag": "ABX9TyNxkdGc2jZ9Ih7GV7Wa4Sv2",
      "include_colab_link": true
    },
    "kernelspec": {
      "name": "python3",
      "display_name": "Python 3"
    },
    "language_info": {
      "name": "python"
    }
  },
  "cells": [
    {
      "cell_type": "markdown",
      "metadata": {
        "id": "view-in-github",
        "colab_type": "text"
      },
      "source": [
        "<a href=\"https://colab.research.google.com/github/Gireesheruvaram/LLM-Beginer/blob/LLMadv-kata3-problem2/LLM_advkat3_2.ipynb\" target=\"_parent\"><img src=\"https://colab.research.google.com/assets/colab-badge.svg\" alt=\"Open In Colab\"/></a>"
      ]
    },
    {
      "cell_type": "code",
      "source": [
        "import pandas as pd\n",
        "import numpy as np\n",
        "import nltk\n",
        "import string\n",
        "from sklearn.feature_extraction.text import TfidfVectorizer\n",
        "from nltk.corpus import stopwords\n",
        "from nltk.tokenize import word_tokenize, sent_tokenize\n",
        "from nltk.corpus import reuters"
      ],
      "metadata": {
        "id": "BpHVEPypBaeC"
      },
      "execution_count": null,
      "outputs": []
    },
    {
      "cell_type": "code",
      "source": [
        "!pip install nltk\n",
        "import nltk\n",
        "nltk.download('punkt_tab')"
      ],
      "metadata": {
        "colab": {
          "base_uri": "https://localhost:8080/"
        },
        "id": "l1WiVcHNB1rf",
        "outputId": "fc9b0693-ef79-463d-84e1-f6fb9afb3dde",
        "collapsed": true
      },
      "execution_count": null,
      "outputs": [
        {
          "output_type": "stream",
          "name": "stdout",
          "text": [
            "Requirement already satisfied: nltk in /usr/local/lib/python3.11/dist-packages (3.9.1)\n",
            "Requirement already satisfied: click in /usr/local/lib/python3.11/dist-packages (from nltk) (8.1.8)\n",
            "Requirement already satisfied: joblib in /usr/local/lib/python3.11/dist-packages (from nltk) (1.4.2)\n",
            "Requirement already satisfied: regex>=2021.8.3 in /usr/local/lib/python3.11/dist-packages (from nltk) (2024.11.6)\n",
            "Requirement already satisfied: tqdm in /usr/local/lib/python3.11/dist-packages (from nltk) (4.67.1)\n"
          ]
        },
        {
          "output_type": "stream",
          "name": "stderr",
          "text": [
            "[nltk_data] Downloading package punkt_tab to /root/nltk_data...\n",
            "[nltk_data]   Unzipping tokenizers/punkt_tab.zip.\n"
          ]
        },
        {
          "output_type": "execute_result",
          "data": {
            "text/plain": [
              "True"
            ]
          },
          "metadata": {},
          "execution_count": 30
        }
      ]
    },
    {
      "cell_type": "code",
      "source": [
        "\n",
        "nltk.download('punkt')  # For tokenization\n",
        "nltk.download('stopwords')  # For stopwords\n",
        "nltk.download('reuters')  # For the Reuters dataset\n"
      ],
      "metadata": {
        "colab": {
          "base_uri": "https://localhost:8080/"
        },
        "id": "r-YnV6JPBfb2",
        "outputId": "9ae70359-76ae-4527-bb3c-9793a782408e"
      },
      "execution_count": null,
      "outputs": [
        {
          "output_type": "stream",
          "name": "stderr",
          "text": [
            "[nltk_data] Downloading package punkt to /root/nltk_data...\n",
            "[nltk_data]   Package punkt is already up-to-date!\n",
            "[nltk_data] Downloading package stopwords to /root/nltk_data...\n",
            "[nltk_data]   Package stopwords is already up-to-date!\n",
            "[nltk_data] Downloading package reuters to /root/nltk_data...\n",
            "[nltk_data]   Package reuters is already up-to-date!\n",
            "[nltk_data] Downloading package averaged_perceptron_tagger to\n",
            "[nltk_data]     /root/nltk_data...\n",
            "[nltk_data]   Package averaged_perceptron_tagger is already up-to-\n",
            "[nltk_data]       date!\n"
          ]
        },
        {
          "output_type": "execute_result",
          "data": {
            "text/plain": [
              "True"
            ]
          },
          "metadata": {},
          "execution_count": 26
        }
      ]
    },
    {
      "cell_type": "code",
      "source": [
        "def preprocess_text(text):\n",
        "    \"\"\"Cleans text: lowercasing, removing punctuation, and stopwords.\"\"\"\n",
        "    stop_words = set(stopwords.words('english'))\n",
        "    text = text.lower()\n",
        "    text = text.translate(str.maketrans(\"\", \"\", string.punctuation))\n",
        "    words = word_tokenize(text)\n",
        "    words = [word for word in words if word not in stop_words]\n",
        "    return \" \".join(words)"
      ],
      "metadata": {
        "id": "F7KX8fjYBiX2"
      },
      "execution_count": null,
      "outputs": []
    },
    {
      "cell_type": "code",
      "source": [
        "def compute_tfidf(docs, top_n=5):\n",
        "    \"\"\"Computes TF-IDF and returns top N keywords & summary for each document.\"\"\"\n",
        "    vectorizer = TfidfVectorizer()\n",
        "    tfidf_matrix = vectorizer.fit_transform(docs)\n",
        "    feature_names = np.array(vectorizer.get_feature_names_out())\n",
        "\n",
        "    summaries = []\n",
        "    for doc_idx, row in enumerate(tfidf_matrix):\n",
        "        sorted_indices = np.argsort(row.toarray()).flatten()[::-1]\n",
        "        top_keywords = feature_names[sorted_indices][:top_n]\n",
        "\n",
        "        # Extract a summary sentence containing at least one keyword\n",
        "        original_sentences = sent_tokenize(articles[doc_idx])\n",
        "        summary_sentence = next((s for s in original_sentences if any(word in s.lower() for word in top_keywords)), original_sentences[0])\n",
        "\n",
        "        summaries.append((top_keywords, summary_sentence))\n",
        "\n",
        "    return summaries"
      ],
      "metadata": {
        "id": "Gj8xoZzUBnJ5"
      },
      "execution_count": null,
      "outputs": []
    },
    {
      "cell_type": "code",
      "source": [
        "# Load Reuters dataset (first 10 articles)\n",
        "file_ids = reuters.fileids()[:10]  # Get first 10 articles\n",
        "articles = [\" \".join(reuters.words(file_id)) for file_id in file_ids]  # Convert words to text\n",
        "\n",
        "# Preprocess each article\n",
        "cleaned_articles = [preprocess_text(article) for article in articles]\n",
        "\n",
        "# Generate summaries\n",
        "summaries = compute_tfidf(cleaned_articles)\n",
        "\n",
        "# Display results\n",
        "for i, (keywords, summary) in enumerate(summaries):\n",
        "    print(f\"\\nArticle {i+1}:\")\n",
        "    print(f\"Top {len(keywords)} Keywords: {', '.join(keywords)}\")\n",
        "    print(f\"Summary: {summary}\")"
      ],
      "metadata": {
        "colab": {
          "base_uri": "https://localhost:8080/"
        },
        "id": "05ftlx92Bqe5",
        "outputId": "1332e56e-da34-48d4-96c8-79ad420d2120"
      },
      "execution_count": null,
      "outputs": [
        {
          "output_type": "stream",
          "name": "stdout",
          "text": [
            "\n",
            "Article 1:\n",
            "Top 5 Keywords: trade, japan, said, tariffs, exports\n",
            "Summary: S .- JAPAN RIFT Mounting trade friction between the U .\n",
            "\n",
            "Article 2:\n",
            "Top 5 Keywords: china, pct, preservation, storage, waste\n",
            "Summary: CHINA DAILY SAYS VERMIN EAT 7 - 12 PCT GRAIN STOCKS A survey of 19 provinces and seven cities showed vermin consume between seven and 12 pct of China ' s grain stocks , the China Daily said .\n",
            "\n",
            "Article 3:\n",
            "Top 5 Keywords: energy, demand, miti, supply, natural\n",
            "Summary: JAPAN TO REVISE LONG - TERM ENERGY DEMAND DOWNWARDS The Ministry of International Trade and Industry ( MITI ) will revise its long - term energy supply / demand outlook by August to meet a forecast downtrend in Japanese energy demand , ministry officials said .\n",
            "\n",
            "Article 4:\n",
            "Top 5 Keywords: pct, quarter, billion, baht, first\n",
            "Summary: THAI TRADE DEFICIT WIDENS IN FIRST QUARTER Thailand ' s trade deficit widened to 4 .\n",
            "\n",
            "Article 5:\n",
            "Top 5 Keywords: cpo, indonesia, palm, harahap, oil\n",
            "Summary: INDONESIA SEES CPO PRICE RISING SHARPLY Indonesia expects crude palm oil ( CPO ) prices to rise sharply to between 450 and 550 dlrs a tonne FOB sometime this year because of better European demand and a fall in Malaysian output , Hasrul Harahap , junior minister for tree crops , told Indonesian reporters .\n",
            "\n",
            "Article 6:\n",
            "Top 5 Keywords: nsw, ports, ban, port, shipping\n",
            "Summary: AUSTRALIAN FOREIGN SHIP BAN ENDS BUT NSW PORTS HIT Tug crews in New South Wales ( NSW ), Victoria and Western Australia yesterday lifted their ban on foreign - flag ships carrying containers but NSW ports are still being disrupted by a separate dispute , shipping sources said .\n",
            "\n",
            "Article 7:\n",
            "Top 5 Keywords: exchange, trading, rubber, coffee, said\n",
            "Summary: INDONESIAN COMMODITY EXCHANGE MAY EXPAND The Indonesian Commodity Exchange is likely to start trading in at least one new commodity , and possibly two , during calendar 1987 , exchange chairman Paian Nainggolan said .\n",
            "\n",
            "Article 8:\n",
            "Top 5 Keywords: wheat, department, approved, 52, continental\n",
            "Summary: SRI LANKA GETS USDA APPROVAL FOR WHEAT PRICE Food Department officials said the U .\n",
            "\n",
            "Article 9:\n",
            "Top 5 Keywords: mine, gold, wmc, mining, 000\n",
            "Summary: WESTERN MINING TO OPEN NEW GOLD MINE IN AUSTRALIA Western Mining Corp Holdings Ltd & lt ; WMNG .\n",
            "\n",
            "Article 10:\n",
            "Top 5 Keywords: sumitomo, bank, securities, komatsu, business\n",
            "Summary: SUMITOMO BANK AIMS AT QUICK RECOVERY FROM MERGER Sumitomo Bank Ltd & lt ; SUMI .\n"
          ]
        }
      ]
    }
  ]
}