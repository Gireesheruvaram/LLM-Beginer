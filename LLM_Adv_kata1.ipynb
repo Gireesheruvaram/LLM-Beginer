{
  "nbformat": 4,
  "nbformat_minor": 0,
  "metadata": {
    "colab": {
      "provenance": [],
      "include_colab_link": true
    },
    "kernelspec": {
      "name": "python3",
      "display_name": "Python 3"
    },
    "language_info": {
      "name": "python"
    }
  },
  "cells": [
    {
      "cell_type": "markdown",
      "metadata": {
        "id": "view-in-github",
        "colab_type": "text"
      },
      "source": [
        "<a href=\"https://colab.research.google.com/github/Gireesheruvaram/LLM-Beginer/blob/LLM-advanced-kata1/LLM_Adv_kata1.ipynb\" target=\"_parent\"><img src=\"https://colab.research.google.com/assets/colab-badge.svg\" alt=\"Open In Colab\"/></a>"
      ]
    },
    {
      "cell_type": "markdown",
      "source": [
        "**Objective : Movie Recommendation with User Preferences**"
      ],
      "metadata": {
        "id": "XPJxnCvNtYSo"
      }
    },
    {
      "cell_type": "code",
      "execution_count": null,
      "metadata": {
        "colab": {
          "base_uri": "https://localhost:8080/"
        },
        "id": "dHJbCJjqIxiK",
        "outputId": "dbadfb0b-55ca-4007-bfe6-b27ca7b7eba7"
      },
      "outputs": [
        {
          "output_type": "stream",
          "name": "stdout",
          "text": [
            "Requirement already satisfied: pandas in /usr/local/lib/python3.11/dist-packages (2.2.2)\n",
            "Requirement already satisfied: numpy in /usr/local/lib/python3.11/dist-packages (1.26.4)\n",
            "Requirement already satisfied: python-dateutil>=2.8.2 in /usr/local/lib/python3.11/dist-packages (from pandas) (2.8.2)\n",
            "Requirement already satisfied: pytz>=2020.1 in /usr/local/lib/python3.11/dist-packages (from pandas) (2024.2)\n",
            "Requirement already satisfied: tzdata>=2022.7 in /usr/local/lib/python3.11/dist-packages (from pandas) (2024.2)\n",
            "Requirement already satisfied: six>=1.5 in /usr/local/lib/python3.11/dist-packages (from python-dateutil>=2.8.2->pandas) (1.17.0)\n"
          ]
        }
      ],
      "source": [
        "!pip install pandas numpy"
      ]
    },
    {
      "cell_type": "code",
      "source": [
        "import pandas as pd\n",
        "import numpy as np"
      ],
      "metadata": {
        "id": "1V0S92OIllyV"
      },
      "execution_count": null,
      "outputs": []
    },
    {
      "cell_type": "code",
      "source": [
        "from google.colab import drive\n",
        "drive.mount('/content/drive')"
      ],
      "metadata": {
        "colab": {
          "base_uri": "https://localhost:8080/"
        },
        "id": "XuK-ricjbRYu",
        "outputId": "e1778615-e219-4179-ce00-e38cfb4b8943"
      },
      "execution_count": null,
      "outputs": [
        {
          "output_type": "stream",
          "name": "stdout",
          "text": [
            "Mounted at /content/drive\n"
          ]
        }
      ]
    },
    {
      "cell_type": "code",
      "source": [
        "# File path\n",
        "file_path = \"/content/drive/MyDrive/LangChain/movie_ratings.xlsx\"\n",
        "\n",
        "# Error handling for loading the dataset\n",
        "try:\n",
        "    df = pd.read_excel(file_path)\n",
        "except FileNotFoundError:\n",
        "    print(f\"Error: The file at {file_path} was not found.\")\n",
        "    exit()\n",
        "except Exception as e:\n",
        "    print(f\"Error loading the dataset: {e}\")\n",
        "    exit()"
      ],
      "metadata": {
        "id": "DrxtkxTVls4s"
      },
      "execution_count": null,
      "outputs": []
    },
    {
      "cell_type": "code",
      "source": [
        "# Error handling for genre parsing\n",
        "try:\n",
        "    # Parse genres from stringified lists\n",
        "    df[\"genres\"] = df[\"genres\"].apply(lambda x: eval(x) if isinstance(x, str) else x)\n",
        "except Exception as e:\n",
        "    print(f\"Error parsing genres: {e}\")\n",
        "    exit()\n",
        "\n",
        "# Print unique user IDs\n",
        "unique_users = df[\"userId\"].unique()\n",
        "print(f\"\\nUnique User IDs in DataFrame: {unique_users}\")\n",
        "\n",
        "# Define unique genres\n",
        "unique_genres = set(genre for genres in df[\"genres\"] for genre in genres)\n",
        "print(f\"\\nUnique Genres in DataFrame: {unique_genres}\")"
      ],
      "metadata": {
        "colab": {
          "base_uri": "https://localhost:8080/"
        },
        "id": "1YdGQFCcsyhq",
        "outputId": "9ea8b924-19ad-4f29-d381-3dde7dcd8bd8"
      },
      "execution_count": null,
      "outputs": [
        {
          "output_type": "stream",
          "name": "stdout",
          "text": [
            "\n",
            "Unique User IDs in DataFrame: ['u1' 'u2' 'u3' 'u4' 'u5' 'u6' 'u7' 'u8' 'u9' 'u10' 'u11' 'u12' 'u13'\n",
            " 'u14' 'u15']\n",
            "\n",
            "Unique Genres in DataFrame: {'Thriller', 'Drama', 'Adventure', 'Crime', 'War', 'Comedy', 'Romance', 'Fantasy', 'History', 'Sci-Fi', 'Action'}\n"
          ]
        }
      ]
    },
    {
      "cell_type": "code",
      "source": [
        "# Initialize user preference vectors\n",
        "user_preferences = {user: np.zeros(len(unique_genres)) for user in unique_users}\n",
        "genre_index = {genre: i for i, genre in enumerate(unique_genres)}\n",
        "\n",
        "# Update user preference vectors based on ratings\n",
        "for _, row in df.iterrows():\n",
        "    try:\n",
        "        user = row[\"userId\"]\n",
        "        rating = row[\"rating\"]\n",
        "        genres = row[\"genres\"]\n",
        "        if user not in user_preferences:\n",
        "            user_preferences[user] = np.zeros(len(unique_genres))\n",
        "        for genre in genres:\n",
        "            if genre in genre_index:\n",
        "                user_preferences[user][genre_index[genre]] += rating\n",
        "    except Exception as e:\n",
        "        print(f\"Error processing row {row}: {e}\")\n",
        "        continue\n",
        "\n",
        "# Print user preference vectors\n",
        "print(\"\\nUser Preference Vectors:\")\n",
        "for user, vector in user_preferences.items():\n",
        "    print(f\"User {user}: {vector}\")"
      ],
      "metadata": {
        "colab": {
          "base_uri": "https://localhost:8080/"
        },
        "id": "Bqsy7L4hs4KA",
        "outputId": "3343f9ac-4585-4952-f485-2133193e35ff"
      },
      "execution_count": null,
      "outputs": [
        {
          "output_type": "stream",
          "name": "stdout",
          "text": [
            "\n",
            "User Preference Vectors:\n",
            "User u1: [ 0.  9.  0. 12.  0.  0.  0.  0.  0.  0.  3.]\n",
            "User u2: [0. 0. 4. 0. 0. 0. 0. 4. 0. 5. 5.]\n",
            "User u3: [0. 0. 5. 4. 0. 4. 0. 0. 0. 5. 5.]\n",
            "User u4: [0. 9. 0. 5. 0. 0. 4. 5. 0. 0. 0.]\n",
            "User u5: [4. 5. 0. 4. 0. 0. 0. 0. 0. 0. 0.]\n",
            "User u6: [0. 9. 0. 0. 4. 0. 0. 0. 5. 0. 0.]\n",
            "User u7: [0. 9. 0. 9. 0. 0. 0. 0. 0. 0. 0.]\n",
            "User u8: [0. 0. 4. 5. 0. 0. 0. 4. 0. 0. 5.]\n",
            "User u9: [0. 0. 4. 0. 4. 0. 0. 0. 0. 5. 5.]\n",
            "User u10: [0. 4. 0. 9. 0. 5. 0. 0. 0. 0. 0.]\n",
            "User u11: [5. 9. 0. 5. 0. 0. 4. 0. 0. 0. 0.]\n",
            "User u12: [4. 9. 0. 5. 0. 0. 0. 5. 0. 0. 0.]\n",
            "User u13: [0. 9. 0. 0. 4. 0. 0. 0. 5. 0. 0.]\n",
            "User u14: [0. 9. 0. 9. 0. 0. 0. 0. 0. 0. 0.]\n",
            "User u15: [0. 0. 0. 5. 0. 0. 0. 0. 0. 0. 5.]\n"
          ]
        }
      ]
    },
    {
      "cell_type": "markdown",
      "source": [
        "**Recommendation Funtion**"
      ],
      "metadata": {
        "id": "gcN4YwyCtAYg"
      }
    },
    {
      "cell_type": "code",
      "source": [
        "# Recommendation Function with Error Handling\n",
        "def recommend_movies(user_id, user_preferences, external_movie_list, genre_index, top_n=3):\n",
        "    try:\n",
        "        if user_id not in user_preferences:\n",
        "            raise ValueError(f\"User {user_id} not found in user preferences.\")\n",
        "\n",
        "        user_vector = user_preferences[user_id]\n",
        "        recommendations = []\n",
        "\n",
        "        for movie in external_movie_list:\n",
        "            try:\n",
        "                # Validate the movie structure\n",
        "                if \"Title\" not in movie or \"Genre Vector\" not in movie:\n",
        "                    raise KeyError(\"Missing 'Title' or 'Genre Vector' in movie data.\")\n",
        "\n",
        "                genre_vector = np.zeros(len(unique_genres))\n",
        "\n",
        "                # For each genre in the movie, mark the corresponding genre position in genre_vector\n",
        "                for genre in movie[\"Genre Vector\"]:\n",
        "                    if genre in genre_index:\n",
        "                        genre_vector[genre_index[genre]] = 1\n",
        "\n",
        "                # Calculate the similarity score by taking the dot product between user preferences and genre vector\n",
        "                similarity_score = np.dot(user_vector, genre_vector)\n",
        "                recommendations.append((movie[\"Title\"], similarity_score))\n",
        "            except KeyError as e:\n",
        "                print(f\"Error in movie data: {e}\")\n",
        "                continue\n",
        "            except Exception as e:\n",
        "                print(f\"Unexpected error with movie {movie['Title']}: {e}\")\n",
        "                continue\n",
        "\n",
        "        # Sort recommendations by similarity score in descending order\n",
        "        recommendations.sort(key=lambda x: x[1], reverse=True)\n",
        "        return [title for title, _ in recommendations[:top_n]]\n",
        "\n",
        "    except ValueError as e:\n",
        "        print(f\"Error: {e}\")\n",
        "        return []"
      ],
      "metadata": {
        "id": "1Z08NYlfs9Lj"
      },
      "execution_count": null,
      "outputs": []
    },
    {
      "cell_type": "code",
      "source": [
        "# Example External Movie List\n",
        "external_movie_list = [\n",
        "    {\"Title\": \"The Godfather\", \"Genre Vector\": [\"Crime\", \"Drama\"]},\n",
        "    {\"Title\": \"The Dark Knight\", \"Genre Vector\": [\"Action\", \"Crime\"]},\n",
        "    {\"Title\": \"Inception\", \"Genre Vector\": [\"Action\", \"Sci-Fi\"]},\n",
        "    {\"Title\": \"Forrest Gump\", \"Genre Vector\": [\"Drama\", \"Romance\"]},\n",
        "    {\"Title\": \"The Lord of the Rings: The Fellowship of the Ring\", \"Genre Vector\": [\"Adventure\", \"Fantasy\"]},\n",
        "]"
      ],
      "metadata": {
        "id": "LQXf0nH-tKdS"
      },
      "execution_count": null,
      "outputs": []
    },
    {
      "cell_type": "code",
      "source": [
        "# Print all available user IDs and select one\n",
        "print(f\"\\nAvailable User IDs: {unique_users}\")\n",
        "\n",
        "# Choose a user ID for recommendations with error handling\n",
        "try:\n",
        "    user_id_to_recommend = input(\"Enter the User ID for which you want recommendations: \").strip()\n",
        "\n",
        "    if user_id_to_recommend not in user_preferences:\n",
        "        raise ValueError(f\"User ID '{user_id_to_recommend}' not found in the dataset.\")\n",
        "\n",
        "    recommended_movies = recommend_movies(user_id_to_recommend, user_preferences, external_movie_list, genre_index)\n",
        "\n",
        "    if recommended_movies:\n",
        "        print(f\"\\nRecommended Movies for User {user_id_to_recommend}:\")\n",
        "        for title in recommended_movies:\n",
        "            print(title)\n",
        "    else:\n",
        "        print(f\"No recommendations found for User {user_id_to_recommend}.\")\n",
        "\n",
        "except ValueError as e:\n",
        "    print(f\"Error: {e}\")\n",
        "except Exception as e:\n",
        "    print(f\"Unexpected error: {e}\")\n"
      ],
      "metadata": {
        "colab": {
          "base_uri": "https://localhost:8080/"
        },
        "id": "ckhMoguTtQf_",
        "outputId": "afcb292c-5e21-4276-e130-9e5132858fa0"
      },
      "execution_count": null,
      "outputs": [
        {
          "output_type": "stream",
          "name": "stdout",
          "text": [
            "\n",
            "Available User IDs: ['u1' 'u2' 'u3' 'u4' 'u5' 'u6' 'u7' 'u8' 'u9' 'u10' 'u11' 'u12' 'u13'\n",
            " 'u14' 'u15']\n",
            "Enter the User ID for which you want recommendations: u3\n",
            "\n",
            "Recommended Movies for User u3:\n",
            "Inception\n",
            "The Dark Knight\n",
            "The Lord of the Rings: The Fellowship of the Ring\n"
          ]
        }
      ]
    }
  ]
}