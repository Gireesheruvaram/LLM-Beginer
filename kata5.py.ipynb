{
 "cells": [
  {
   "cell_type": "code",
   "execution_count": 27,
   "id": "fb0a11f5",
   "metadata": {
    "scrolled": true
   },
   "outputs": [
    {
     "name": "stdout",
     "output_type": "stream",
     "text": [
      "Defaulting to user installation because normal site-packages is not writeable\n",
      "Requirement already satisfied: mysql-connector-python in /home/gire/.local/lib/python3.10/site-packages (9.2.0)\n",
      "Requirement already satisfied: openai in /home/gire/.local/lib/python3.10/site-packages (0.28.0)\n",
      "Requirement already satisfied: pandas in /home/gire/.local/lib/python3.10/site-packages (2.2.3)\n",
      "Requirement already satisfied: tqdm in /home/gire/.local/lib/python3.10/site-packages (from openai) (4.67.1)\n",
      "Requirement already satisfied: requests>=2.20 in /usr/lib/python3/dist-packages (from openai) (2.25.1)\n",
      "Requirement already satisfied: aiohttp in /home/gire/.local/lib/python3.10/site-packages (from openai) (3.11.11)\n",
      "Requirement already satisfied: numpy>=1.22.4 in /home/gire/.local/lib/python3.10/site-packages (from pandas) (2.2.2)\n",
      "Requirement already satisfied: tzdata>=2022.7 in /home/gire/.local/lib/python3.10/site-packages (from pandas) (2025.1)\n",
      "Requirement already satisfied: python-dateutil>=2.8.2 in /home/gire/.local/lib/python3.10/site-packages (from pandas) (2.9.0.post0)\n",
      "Requirement already satisfied: pytz>=2020.1 in /usr/lib/python3/dist-packages (from pandas) (2022.1)\n",
      "Requirement already satisfied: six>=1.5 in /usr/lib/python3/dist-packages (from python-dateutil>=2.8.2->pandas) (1.16.0)\n",
      "Requirement already satisfied: attrs>=17.3.0 in /usr/lib/python3/dist-packages (from aiohttp->openai) (21.2.0)\n",
      "Requirement already satisfied: propcache>=0.2.0 in /home/gire/.local/lib/python3.10/site-packages (from aiohttp->openai) (0.2.1)\n",
      "Requirement already satisfied: aiosignal>=1.1.2 in /home/gire/.local/lib/python3.10/site-packages (from aiohttp->openai) (1.3.2)\n",
      "Requirement already satisfied: yarl<2.0,>=1.17.0 in /home/gire/.local/lib/python3.10/site-packages (from aiohttp->openai) (1.18.3)\n",
      "Requirement already satisfied: async-timeout<6.0,>=4.0 in /home/gire/.local/lib/python3.10/site-packages (from aiohttp->openai) (5.0.1)\n",
      "Requirement already satisfied: multidict<7.0,>=4.5 in /home/gire/.local/lib/python3.10/site-packages (from aiohttp->openai) (6.1.0)\n",
      "Requirement already satisfied: aiohappyeyeballs>=2.3.0 in /home/gire/.local/lib/python3.10/site-packages (from aiohttp->openai) (2.4.4)\n",
      "Requirement already satisfied: frozenlist>=1.1.1 in /home/gire/.local/lib/python3.10/site-packages (from aiohttp->openai) (1.5.0)\n",
      "Requirement already satisfied: typing-extensions>=4.1.0 in /home/gire/.local/lib/python3.10/site-packages (from multidict<7.0,>=4.5->aiohttp->openai) (4.12.2)\n",
      "Requirement already satisfied: idna>=2.0 in /usr/lib/python3/dist-packages (from yarl<2.0,>=1.17.0->aiohttp->openai) (3.3)\n",
      "Note: you may need to restart the kernel to use updated packages.\n"
     ]
    }
   ],
   "source": [
    "pip install mysql-connector-python openai pandas"
   ]
  },
  {
   "cell_type": "code",
   "execution_count": 28,
   "id": "1672ab0b",
   "metadata": {
    "scrolled": true
   },
   "outputs": [
    {
     "name": "stdout",
     "output_type": "stream",
     "text": [
      "Defaulting to user installation because normal site-packages is not writeable\n",
      "Requirement already satisfied: python-dotenv in /home/gire/.local/lib/python3.10/site-packages (1.0.1)\n"
     ]
    }
   ],
   "source": [
    "!pip install python-dotenv\n"
   ]
  },
  {
   "cell_type": "code",
   "execution_count": 35,
   "id": "feff60d0",
   "metadata": {},
   "outputs": [
    {
     "name": "stdout",
     "output_type": "stream",
     "text": [
      "API Key Loaded Successfully (Hidden)\n"
     ]
    }
   ],
   "source": [
    "from dotenv import load_dotenv\n",
    "import os\n",
    "import pandas as pd\n",
    "import openai\n",
    "import mysql.connector\n",
    "load_dotenv(\"one.env\")\n",
    "\n",
    "# Get the API key from environment variables\n",
    "openai.api_key = os.getenv(\"OPENAI_API_KEY\")\n",
    "\n",
    "print(\"API Key Loaded Successfully (Hidden)\")  \n"
   ]
  },
  {
   "cell_type": "code",
   "execution_count": 30,
   "id": "60c37bfd",
   "metadata": {},
   "outputs": [],
   "source": [
    "\n",
    "DB_CONFIG = {\n",
    "    \"host\": \"localhost\",\n",
    "    \"user\":\"root\",\n",
    "    \"password\": \"Zemoso@1234\",\n",
    "    \"database\": \"company_db\"\n",
    "}\n",
    "\n"
   ]
  },
  {
   "cell_type": "code",
   "execution_count": 31,
   "id": "851b9c82",
   "metadata": {},
   "outputs": [],
   "source": [
    "import openai\n",
    "import json\n",
    "import re\n",
    "\n",
    "def refine_question(question):\n",
    "    prompt = f\"\"\"\n",
    "    Given the generic question: '{question}', refine it into a specific and detailed query about company data.\n",
    "\n",
    "    The database schema:\n",
    "    - Table: employees\n",
    "    - Columns: employee_id, first_name, last_name, department, salary, hire_date\n",
    "\n",
    "    Ensure the refined question only references these columns.\n",
    "\n",
    "    Return a JSON object:\n",
    "    - \"refined_question\": the improved question\n",
    "    - \"database_name\": the targeted database\n",
    "\n",
    "    Only return JSON, no explanations or formatting.\n",
    "    \"\"\"\n",
    "\n",
    "    response = openai.ChatCompletion.create(\n",
    "        model=\"gpt-3.5-turbo-1106\",\n",
    "        messages=[{\"role\": \"user\", \"content\": prompt}]\n",
    "    )\n",
    "\n",
    "    try:\n",
    "        return json.loads(response[\"choices\"][0][\"message\"][\"content\"])\n",
    "    except json.JSONDecodeError:\n",
    "        return {\"error\": \"Invalid JSON format\"}\n"
   ]
  },
  {
   "cell_type": "code",
   "execution_count": 32,
   "id": "43388485",
   "metadata": {},
   "outputs": [],
   "source": [
    "import openai\n",
    "import re\n",
    "\n",
    "def generate_sql_query(refined_question):\n",
    "    prompt = f\"\"\"\n",
    "    Convert the following refined question into an SQL query.\n",
    "\n",
    "    The database schema:\n",
    "    - Table: employees\n",
    "    - Columns: employee_id, first_name, last_name, department, salary, hire_date\n",
    "\n",
    "    Only use these columns in the query.\n",
    "\n",
    "    Refined Question:\n",
    "    '{refined_question}'\n",
    "\n",
    "    Return **only** the SQL query, with no explanations or formatting.\n",
    "    \"\"\"\n",
    "\n",
    "    response = openai.ChatCompletion.create(\n",
    "        model=\"gpt-3.5-turbo-1106\",\n",
    "        messages=[{\"role\": \"user\", \"content\": prompt}]\n",
    "    )\n",
    "\n",
    "    return response[\"choices\"][0][\"message\"][\"content\"].strip()\n"
   ]
  },
  {
   "cell_type": "code",
   "execution_count": 33,
   "id": "53c035fd",
   "metadata": {},
   "outputs": [],
   "source": [
    "\n",
    "# Function to execute the SQL query\n",
    "def execute_query(query):\n",
    "    try:\n",
    "        conn = mysql.connector.connect(**DB_CONFIG)\n",
    "        cursor = conn.cursor()\n",
    "\n",
    "        cursor.execute(query)\n",
    "        rows = cursor.fetchall()\n",
    "\n",
    "        # Fetch column names\n",
    "        columns = [desc[0] for desc in cursor.description]\n",
    "\n",
    "        # Convert to DataFrame for better visualization\n",
    "        df = pd.DataFrame(rows, columns=columns)\n",
    "        \n",
    "        cursor.close()\n",
    "        conn.close()\n",
    "\n",
    "        return df\n",
    "\n",
    "    except mysql.connector.Error as err:\n",
    "        return f\"Error: {err}\""
   ]
  },
  {
   "cell_type": "code",
   "execution_count": 36,
   "id": "ac372f67",
   "metadata": {},
   "outputs": [
    {
     "name": "stdout",
     "output_type": "stream",
     "text": [
      "Enter a generic question about company data: \"What is the average salary in each department?\"\n",
      "\n",
      "Refined Question: What is the average salary for each department in the employees table?\n",
      "\n",
      "Generated SQL Query:\n",
      " SELECT department, AVG(salary) AS average_salary\n",
      "FROM employees\n",
      "GROUP BY department;\n",
      "\n",
      "Executing Query...\n",
      "\n",
      "Query Result:\n",
      "     department average_salary\n",
      "0           HR   60000.000000\n",
      "1  Engineering   90000.000000\n",
      "2    Marketing   75000.000000\n"
     ]
    }
   ],
   "source": [
    "# Main Execution Flow\n",
    "if __name__ == \"__main__\":\n",
    "    user_question = input(\"Enter a generic question about company data: \")\n",
    "    \n",
    "    refined_output = refine_question(user_question)\n",
    "    print(\"\\nRefined Question:\", refined_output[\"refined_question\"])\n",
    "\n",
    "    sql_query = generate_sql_query(refined_output[\"refined_question\"])\n",
    "    print(\"\\nGenerated SQL Query:\\n\", sql_query)\n",
    "\n",
    "    print(\"\\nExecuting Query...\")\n",
    "    result_df = execute_query(sql_query)\n",
    "    print(\"\\nQuery Result:\\n\", result_df)"
   ]
  },
  {
   "cell_type": "code",
   "execution_count": null,
   "id": "a4a1718c",
   "metadata": {},
   "outputs": [],
   "source": []
  }
 ],
 "metadata": {
  "kernelspec": {
   "display_name": "Python 3 (ipykernel)",
   "language": "python",
   "name": "python3"
  },
  "language_info": {
   "codemirror_mode": {
    "name": "ipython",
    "version": 3
   },
   "file_extension": ".py",
   "mimetype": "text/x-python",
   "name": "python",
   "nbconvert_exporter": "python",
   "pygments_lexer": "ipython3",
   "version": "3.10.12"
  }
 },
 "nbformat": 4,
 "nbformat_minor": 5
}
